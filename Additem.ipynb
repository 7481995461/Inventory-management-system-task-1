{
 "cells": [
  {
   "cell_type": "code",
   "execution_count": 5,
   "metadata": {},
   "outputs": [],
   "source": [
    "import json\n",
    "\n",
    "record={1001:{\"name\": \"Dopamine\",\"qty\": 20,\"price\": 60,\"expdate\": \"nov-2022\"},\n",
    "        1002:{\"name\": \"Phosphorus\",\"qty\": 24,\"price\": 120,\"expdate\": \"nov-2021\"},\n",
    "        1003:{\"name\": \"Paracip 500 Tablet\",\"qty\": 10,\"price\": 120,\"expdate\": \"dec-2022\"},\n",
    "        1004:{\"name\": \"Persol AC 2.5 Gel\",\"qty\": 15,\"price\": 100,\"expdate\": \"dec-2022\"},\n",
    "        1005:{\"name\": \"Sumo Tablet\",\"qty\": 15,\"price\": 115,\"expdate\": \"dec-2022\"},}\n",
    "\n",
    "js=json.dumps(record)\n",
    "\n",
    "fd = open(\"record.json\",\"w\")\n",
    "fd.write(js)\n",
    "fd.close()"
   ]
  },
  {
   "cell_type": "code",
   "execution_count": 6,
   "metadata": {},
   "outputs": [],
   "source": [
    "fd = open(\"record.json\",\"r\")\n",
    "r = fd.read()\n",
    "fd.close()"
   ]
  },
  {
   "cell_type": "code",
   "execution_count": 7,
   "metadata": {},
   "outputs": [],
   "source": [
    "record=json.loads(r)"
   ]
  },
  {
   "cell_type": "code",
   "execution_count": 8,
   "metadata": {},
   "outputs": [
    {
     "name": "stdout",
     "output_type": "stream",
     "text": [
      "Enter Product Id:1006\n",
      "Enter Name:Falexan\n",
      "Enter Quantity:40\n",
      "Enter Price:200\n",
      "Enter Expiry Date:dec-2022\n"
     ]
    }
   ],
   "source": [
    "prod_id=str(input(\"Enter Product Id:\"))\n",
    "name=str(input(\"Enter Name:\"))\n",
    "qty=int(input(\"Enter Quantity:\"))\n",
    "price=int(input(\"Enter Price:\"))\n",
    "expdate=str(input(\"Enter Expiry Date:\"))\n",
    "\n",
    "record[prod_id]={\"name\": name,\"qty\": qty,\"price\": price,\"expdate\": expdate}\n",
    "\n",
    "js=json.dumps(record)\n",
    "\n",
    "fd = open(\"record.json\",\"w\")\n",
    "fd.write(js)\n",
    "fd.close()"
   ]
  },
  {
   "cell_type": "code",
   "execution_count": null,
   "metadata": {},
   "outputs": [],
   "source": []
  }
 ],
 "metadata": {
  "kernelspec": {
   "display_name": "Python 3",
   "language": "python",
   "name": "python3"
  },
  "language_info": {
   "codemirror_mode": {
    "name": "ipython",
    "version": 3
   },
   "file_extension": ".py",
   "mimetype": "text/x-python",
   "name": "python",
   "nbconvert_exporter": "python",
   "pygments_lexer": "ipython3",
   "version": "3.8.5"
  }
 },
 "nbformat": 4,
 "nbformat_minor": 4
}
